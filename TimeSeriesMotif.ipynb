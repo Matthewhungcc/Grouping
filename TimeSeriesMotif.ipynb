{
 "cells": [
  {
   "cell_type": "code",
   "execution_count": 8,
   "metadata": {},
   "outputs": [
    {
     "name": "stderr",
     "output_type": "stream",
     "text": [
      "c:\\Users\\intern2\\.conda\\envs\\machineLearnng\\lib\\site-packages\\tslearn\\bases\\bases.py:15: UserWarning: h5py not installed, hdf5 features will not be supported.\n",
      "Install h5py to use hdf5 features: http://docs.h5py.org/\n",
      "  warn(h5py_msg)\n"
     ]
    }
   ],
   "source": [
    "import numpy as np\n",
    "import matplotlib.pyplot as plt\n",
    "import pandas as pd\n",
    "from functools import reduce\n",
    "from tslearn.preprocessing import TimeSeriesScalerMeanVariance, TimeSeriesResampler\n"
   ]
  },
  {
   "cell_type": "code",
   "execution_count": 9,
   "metadata": {},
   "outputs": [],
   "source": [
    "#loading data\n",
    "\n",
    "asset_pchange_list = []\n",
    "asset_price_list = []\n",
    "\n",
    "\n",
    "df = pd.read_excel('PCA.xlsx', sheet_name=2)\n",
    "p_date_list = np.flip(df.iloc[:,0].to_numpy().astype('datetime64[D]'))\n",
    "num_of_asset = len(df.columns)\n",
    "for i in range(1, num_of_asset):\n",
    "    asset_array = df.iloc[:,i].to_numpy()\n",
    "    mask = ~np.isnan(asset_array)\n",
    "    asset_array_no_na = asset_array[mask]\n",
    "    asset_pchange_list.append(np.flip(asset_array_no_na))\n",
    "\n",
    "df = pd.read_excel('PCA.xlsx', sheet_name=1)\n",
    "date_list = np.flip(df.iloc[:,0].to_numpy().astype('datetime64[D]'))\n",
    "num_of_asset = len(df.columns)\n",
    "for i in range(1, num_of_asset):\n",
    "    asset_array = df.iloc[:,i].to_numpy()\n",
    "    mask = ~np.isnan(asset_array)\n",
    "    asset_array_no_na = asset_array[mask]\n",
    "    asset_price_list.append(np.flip(asset_array_no_na))\n",
    "\n",
    "training_asset_pchange_list = np.array(asset_pchange_list)[:, :960]\n",
    "testing_asset_pchange_list = np.array(asset_pchange_list)[:, 960:]\n",
    "\n",
    "training_p_date_list = np.array(p_date_list)[:960]\n",
    "testing_p_date_list = np.array(p_date_list)[960:]\n",
    "\n",
    "training_asset_price_list = np.array(asset_price_list)[:,:960]\n",
    "testing_asset_price_list = np.array(asset_price_list)[:,960:]\n",
    "\n",
    "training_date_list = np.array(date_list)[:960]\n",
    "testing_date_list = np.array(date_list)[960:]"
   ]
  },
  {
   "cell_type": "code",
   "execution_count": 19,
   "metadata": {},
   "outputs": [],
   "source": [
    "class TSMD():\n",
    "    def __init__(self, data_array):\n",
    "        self.data_array = data_array\n",
    "        self.e_dist_list = []\n",
    "        self.n_smallest_e_dist_list = []\n",
    "        self.n_smallest_index = []\n",
    "        self.target_window = 0\n",
    "    \n",
    "    def search(self, search_target, n=3, p_change = True):\n",
    "        if p_change:\n",
    "            self.search_target = search_target\n",
    "            target_window = len(self.search_target)\n",
    "            self.target_window = target_window\n",
    "            data_array = self.data_array\n",
    "\n",
    "            e_dist_list = []\n",
    "            for i in range(len(data_array) - target_window + 1):\n",
    "                compare_array = data_array[i:i+target_window]\n",
    "                E_dist = np.linalg.norm(np.array(compare_array) - np.array(search_target))\n",
    "                e_dist_list.append(E_dist)\n",
    "            self.e_dist_list = e_dist_list\n",
    "            n_smallest_e_dist_list = np.partition(e_dist_list, n)[:n]\n",
    "\n",
    "            self.n_smallest_e_dist_list = n_smallest_e_dist_list\n",
    "\n",
    "            n_smallest_index = np.where(np.isin(e_dist_list, n_smallest_e_dist_list))[0]\n",
    "            self.n_smallest_index = n_smallest_index\n",
    "        else:\n",
    "            self.search_target = search_target\n",
    "            target_window = len(self.search_target)\n",
    "            self.target_window = target_window\n",
    "            data_array = self.data_array\n",
    "\n",
    "            e_dist_list = []\n",
    "            for i in range(len(data_array) - target_window + 1):\n",
    "                compare_array = TimeSeriesScalerMeanVariance().fit_transform([data_array[i:i+target_window]])[0]\n",
    "                E_dist = np.linalg.norm(np.array(compare_array) - TimeSeriesScalerMeanVariance().fit_transform([search_target])[0])\n",
    "                e_dist_list.append(E_dist)\n",
    "            self.e_dist_list = e_dist_list\n",
    "            n_smallest_e_dist_list = np.partition(e_dist_list, n)[:n]\n",
    "\n",
    "            self.n_smallest_e_dist_list = n_smallest_e_dist_list\n",
    "\n",
    "            n_smallest_index = np.where(np.isin(e_dist_list, n_smallest_e_dist_list))[0]\n",
    "            self.n_smallest_index = n_smallest_index\n",
    "\n",
    "def plot(index_data_arr, index_date_arr, p_data_arr, p_date_arr, n_smallest_index, target_window, target_index):\n",
    "    # plt.figure(figsize=(26, 9))\n",
    "    # plt.plot(p_date_arr[:len(p_data_arr)], p_data_arr)\n",
    "    # for index in n_smallest_index:\n",
    "    #     plt.plot(p_date_arr[index:index+target_window], p_data_arr[index:index+target_window], 'r-')\n",
    "    # plt.xlabel('Date')\n",
    "    # plt.ylabel('Value')\n",
    "    # plt.title('Time Series Data')\n",
    "    # plt.show()\n",
    "\n",
    "    plt.figure(figsize=(26, 9))\n",
    "    plt.plot(index_date_arr[:len(index_data_arr)], index_data_arr)\n",
    "    for index in n_smallest_index:\n",
    "        plt.plot(index_date_arr[index:index+target_window], index_data_arr[index:index+target_window], 'r-')\n",
    "    plt.plot(index_date_arr[target_index:target_index+target_window], index_data_arr[target_index:target_index+target_window], 'y-')\n",
    "    plt.xlabel('Date')\n",
    "    plt.ylabel('Value')\n",
    "    plt.title('Time Series Data')\n",
    "    plt.show()"
   ]
  },
  {
   "cell_type": "code",
   "execution_count": 28,
   "metadata": {},
   "outputs": [
    {
     "name": "stdout",
     "output_type": "stream",
     "text": [
      "[301 334 336 354 360]\n"
     ]
    }
   ],
   "source": [
    "start_index = 1\n",
    "window = 10\n",
    "n = 5\n",
    "per = False\n",
    "\n",
    "\n",
    "\n",
    "\n",
    "tsdm_result = []\n",
    "for i in range(len(training_asset_pchange_list)):\n",
    "    tsmd = TSMD(training_asset_pchange_list[i])\n",
    "    tsmd.search(testing_asset_pchange_list[i][start_index:start_index+window], n)\n",
    "    tsdm_result.append(tsmd.e_dist_list)\n",
    "e_dist_list = reduce(np.add, tsdm_result)\n",
    "n_smallest_e_dist_list = np.partition(e_dist_list, n)[:n]\n",
    "n_smallest_index = np.where(np.isin(e_dist_list, n_smallest_e_dist_list))[0]\n",
    "print(n_smallest_index)\n",
    "# Print the result\n",
    "# for i in range(len(asset_pchange_list)):\n",
    "#     target_index = 960+start_index\n",
    "#     plot(asset_price_list[i], date_list, asset_pchange_list[i], p_date_list, n_smallest_index, window, target_index)\n"
   ]
  },
  {
   "cell_type": "code",
   "execution_count": null,
   "metadata": {},
   "outputs": [],
   "source": [
    "tsdm_result = []\n",
    "for i in range(len(training_asset_price_list)):\n",
    "    tsmd = TSMD(training_asset_price_list[i])\n",
    "    tsmd.search(testing_asset_price_list[i][start_index:start_index+window], n, False)\n",
    "    tsdm_result.append(tsmd.e_dist_list)\n",
    "e_dist_list = reduce(np.add, tsdm_result)\n",
    "n_smallest_e_dist_list = np.partition(e_dist_list, n)[:n]\n",
    "n_smallest_index = np.where(np.isin(e_dist_list, n_smallest_e_dist_list))[0]\n",
    "# Print the result\n",
    "for i in range(len(asset_pchange_list)):\n",
    "    target_index = 960+start_index\n",
    "    plot(asset_price_list[i], date_list, asset_pchange_list[i], p_date_list, n_smallest_index, window, target_index)"
   ]
  },
  {
   "cell_type": "code",
   "execution_count": 53,
   "metadata": {},
   "outputs": [
    {
     "name": "stdout",
     "output_type": "stream",
     "text": [
      "<class 'numpy.ndarray'>\n"
     ]
    }
   ],
   "source": [
    "print(type(e_dist_list))"
   ]
  },
  {
   "cell_type": "code",
   "execution_count": null,
   "metadata": {},
   "outputs": [],
   "source": [
    "start_index = 1140\n",
    "window = 4\n",
    "n = 12\n",
    "i = 0\n",
    "\n",
    "p_asset = asset_pchange_list[i]\n",
    "asset = asset_price_list[i]\n",
    "\n",
    "p_tsdm = TSMD(p_asset)\n",
    "p_tsdm.search(p_asset[start_index:start_index+window], n)\n",
    "plot(asset, date_list, p_asset,p_date_list, p_tsdm.n_smallest_index, window, start_index)\n",
    "\n",
    "tsdm = TSMD(asset)\n",
    "tsdm.search(asset[start_index:start_index+window], n, False)\n",
    "plot(asset, date_list, p_asset,p_date_list, tsdm.n_smallest_index, window, start_index)"
   ]
  },
  {
   "cell_type": "code",
   "execution_count": 17,
   "metadata": {},
   "outputs": [],
   "source": [
    "class All_TSMD():\n",
    "    def __init__(self, price_lists, price_date_list, data_lists, data_date_list, target_index, windows=10, n_closest=5, is_p_change = True):\n",
    "        self.__price_lists = price_lists\n",
    "        self.__price_date_list = price_date_list\n",
    "        self.__data_lists = data_lists\n",
    "        self.__data_date_list = data_date_list\n",
    "        self.__target_index = target_index\n",
    "        self.__windows = windows\n",
    "        self.__n_closest = n_closest\n",
    "        self.__is_p_change = is_p_change\n",
    "\n",
    "        before_target_data_lists = np.array(data_lists)[:, :target_index]\n",
    "        target_data_lists = np.array(data_lists)[:, target_index:target_index+windows]\n",
    "        self.__before_target_data_lists = before_target_data_lists\n",
    "        self.__target_data_lists = target_data_lists\n",
    "\n",
    "    def fit(self):\n",
    "        all_asset_e_dist_list = []\n",
    "        windows = self.__windows\n",
    "        is_p_change = self.__is_p_change\n",
    "        before_target_data_lists = self.__before_target_data_lists\n",
    "        n_closest = self.__n_closest\n",
    "        target_data_lists = self.__target_data_lists\n",
    "        for i in range(len(before_target_data_lists)):\n",
    "            e_dist_list = []\n",
    "            asset_data = before_target_data_lists[i]\n",
    "            target_data = target_data_lists[i]\n",
    "            for j in range(len(asset_data) - windows + 1):\n",
    "                if is_p_change:\n",
    "                    compare_data = asset_data[j:j+windows]\n",
    "                    e_dist = np.linalg.norm(np.array(compare_data) - np.array(target_data))\n",
    "                    e_dist_list.append(e_dist)\n",
    "                else:\n",
    "                    compare_data = TimeSeriesScalerMeanVariance().fit_transform([asset_data[j:j+windows]])[0]\n",
    "                    e_dist = np.linalg.norm(np.array(compare_data) - TimeSeriesScalerMeanVariance().fit_transform([target_data])[0])\n",
    "                    e_dist_list.append(e_dist)\n",
    "            all_asset_e_dist_list.append(e_dist_list)\n",
    "        cumulative_asset_e_dist_list = reduce(np.add, all_asset_e_dist_list)\n",
    "        n_smallest_e_dist_list = np.partition(cumulative_asset_e_dist_list, n_closest)[:n_closest]\n",
    "        n_smallest_index = np.where(np.isin(cumulative_asset_e_dist_list, n_smallest_e_dist_list))[0]\n",
    "        print(n_smallest_index)\n",
    "\n",
    "\n",
    "        \n"
   ]
  },
  {
   "cell_type": "code",
   "execution_count": 29,
   "metadata": {},
   "outputs": [
    {
     "name": "stdout",
     "output_type": "stream",
     "text": [
      "[301 334 336 354 360]\n"
     ]
    }
   ],
   "source": [
    "all_tsmd = All_TSMD(asset_price_list, date_list, asset_pchange_list, p_date_list, 961, 10, 5, True)\n",
    "all_tsmd.fit()"
   ]
  },
  {
   "cell_type": "code",
   "execution_count": 2,
   "metadata": {},
   "outputs": [
    {
     "name": "stdout",
     "output_type": "stream",
     "text": [
      "[2, 3]\n"
     ]
    }
   ],
   "source": [
    "print([1,2,3,4,5,6,7][1:1+2])"
   ]
  }
 ],
 "metadata": {
  "kernelspec": {
   "display_name": "machineLearnng",
   "language": "python",
   "name": "python3"
  },
  "language_info": {
   "codemirror_mode": {
    "name": "ipython",
    "version": 3
   },
   "file_extension": ".py",
   "mimetype": "text/x-python",
   "name": "python",
   "nbconvert_exporter": "python",
   "pygments_lexer": "ipython3",
   "version": "3.10.11"
  },
  "orig_nbformat": 4
 },
 "nbformat": 4,
 "nbformat_minor": 2
}
